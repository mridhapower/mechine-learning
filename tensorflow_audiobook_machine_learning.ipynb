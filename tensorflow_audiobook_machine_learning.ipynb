{
  "nbformat": 4,
  "nbformat_minor": 0,
  "metadata": {
    "colab": {
      "name": "tensorflow audiobook machine learning.ipynb",
      "provenance": [],
      "collapsed_sections": [],
      "authorship_tag": "ABX9TyPpWTioJs2srnRhZs/OOEP2",
      "include_colab_link": true
    },
    "kernelspec": {
      "name": "python3",
      "display_name": "Python 3"
    },
    "accelerator": "GPU"
  },
  "cells": [
    {
      "cell_type": "markdown",
      "metadata": {
        "id": "view-in-github",
        "colab_type": "text"
      },
      "source": [
        "<a href=\"https://colab.research.google.com/github/mridhapower/mechine-learning/blob/master/tensorflow_audiobook_machine_learning.ipynb\" target=\"_parent\"><img src=\"https://colab.research.google.com/assets/colab-badge.svg\" alt=\"Open In Colab\"/></a>"
      ]
    },
    {
      "cell_type": "code",
      "metadata": {
        "id": "6O7dBLJe16gV",
        "colab_type": "code",
        "outputId": "e03ecbc5-4f8c-4c82-86fa-4b29d291a879",
        "colab": {
          "base_uri": "https://localhost:8080/",
          "height": 129
        }
      },
      "source": [
        "from google.colab import drive\n",
        "drive.mount('/content/drive')"
      ],
      "execution_count": 0,
      "outputs": [
        {
          "output_type": "stream",
          "text": [
            "Go to this URL in a browser: https://accounts.google.com/o/oauth2/auth?client_id=947318989803-6bn6qk8qdgf4n4g3pfee6491hc0brc4i.apps.googleusercontent.com&redirect_uri=urn%3aietf%3awg%3aoauth%3a2.0%3aoob&response_type=code&scope=email%20https%3a%2f%2fwww.googleapis.com%2fauth%2fdocs.test%20https%3a%2f%2fwww.googleapis.com%2fauth%2fdrive%20https%3a%2f%2fwww.googleapis.com%2fauth%2fdrive.photos.readonly%20https%3a%2f%2fwww.googleapis.com%2fauth%2fpeopleapi.readonly\n",
            "\n",
            "Enter your authorization code:\n",
            "··········\n",
            "Mounted at /content/drive\n"
          ],
          "name": "stdout"
        }
      ]
    },
    {
      "cell_type": "markdown",
      "metadata": {
        "id": "eAuGtoA80xYM",
        "colab_type": "text"
      },
      "source": [
        "import relevant libraries"
      ]
    },
    {
      "cell_type": "code",
      "metadata": {
        "id": "xBv7v7cM0wmD",
        "colab_type": "code",
        "colab": {}
      },
      "source": [
        "import numpy as np\n",
        "import tensorflow as tf\n"
      ],
      "execution_count": 0,
      "outputs": []
    },
    {
      "cell_type": "markdown",
      "metadata": {
        "id": "QhWtVKdw1IMg",
        "colab_type": "text"
      },
      "source": [
        "Data"
      ]
    },
    {
      "cell_type": "code",
      "metadata": {
        "id": "6X6zJRzI0VOg",
        "colab_type": "code",
        "outputId": "34bb5261-c616-4dc9-a449-b461232b03e9",
        "colab": {
          "base_uri": "https://localhost:8080/",
          "height": 257
        }
      },
      "source": [
        "npz = np.load('/content/drive/My Drive/Audiobooks_data/Audiobooks_data_train.npz')\n",
        "train_inputs = npz['inputs'].astype(np.float)\n",
        "train_targets = npz['targets'].astype(np.int)\n",
        "\n",
        "npz = np.load('/content/drive/My Drive/Audiobooks_data/Audiobooks_data_validation.npz')\n",
        "validation_inputs = npz['inputs'].astype(np.int)\n",
        "validation_targets = npz['targets'].astype(np.int)\n",
        "\n",
        "npz = np.load('/content/drive/My Drive/Audiobooks_data/Audiobooks_data_test.npz')\n",
        "test_inputs = npz['inputs'].astype(np.float)\n",
        "test_targets = npz['targets'].astype(np.int)\n",
        "print(validation_targets)"
      ],
      "execution_count": 0,
      "outputs": [
        {
          "output_type": "stream",
          "text": [
            "[1 1 0 0 0 0 1 0 0 0 1 0 1 1 1 1 1 1 1 1 1 0 1 1 1 0 1 0 0 0 0 1 0 0 0 0 1\n",
            " 0 1 0 0 1 1 1 0 0 0 0 1 0 0 0 1 1 0 0 0 1 1 1 0 1 1 1 1 1 0 1 0 0 1 1 0 0\n",
            " 1 0 0 0 0 0 1 1 0 0 1 0 0 1 0 0 1 1 0 0 0 1 0 1 0 1 0 0 0 0 0 0 0 1 0 0 0\n",
            " 0 0 0 1 0 0 1 1 1 1 1 0 0 0 0 1 1 1 0 1 1 1 1 0 0 0 1 1 1 1 1 0 1 0 1 0 1\n",
            " 1 1 0 1 1 1 0 0 0 1 0 0 1 1 0 1 1 1 0 0 0 1 1 1 0 0 1 0 0 0 0 0 0 1 0 0 1\n",
            " 1 1 1 0 1 0 1 0 0 1 1 0 0 1 1 1 1 0 1 1 0 1 1 1 1 0 0 0 1 0 1 1 1 0 0 1 0\n",
            " 1 0 1 0 0 0 1 0 1 1 0 1 1 1 1 1 1 1 1 1 0 1 0 0 0 1 0 1 1 0 1 0 1 1 1 0 1\n",
            " 0 0 1 1 0 0 1 1 1 0 0 0 1 1 0 1 0 1 0 1 1 1 0 0 1 1 1 1 0 0 1 1 1 1 0 0 1\n",
            " 0 1 1 0 0 1 1 1 0 0 0 0 1 1 0 0 0 1 1 1 1 0 0 1 0 1 1 1 1 0 0 1 1 0 1 0 0\n",
            " 1 0 0 0 1 1 1 1 1 0 1 1 1 0 1 0 1 1 0 0 1 1 0 0 0 1 1 1 1 0 1 1 0 1 0 1 0\n",
            " 1 0 1 1 1 0 0 1 0 1 0 1 1 1 0 0 1 1 0 1 0 0 0 0 1 0 1 0 1 1 1 0 1 1 0 0 1\n",
            " 0 0 0 0 1 1 0 1 0 0 0 1 1 1 0 0 1 0 1 1 0 1 1 1 0 0 1 0 0 0 1 1 1 1 0 1 1\n",
            " 1 0 1]\n"
          ],
          "name": "stdout"
        }
      ]
    },
    {
      "cell_type": "markdown",
      "metadata": {
        "id": "zQfMSh9Kr1va",
        "colab_type": "text"
      },
      "source": [
        "**Model**\n",
        "\n",
        "outline,optimizer,loss,early stopping and training"
      ]
    },
    {
      "cell_type": "code",
      "metadata": {
        "id": "5G0jIkuMr08a",
        "colab_type": "code",
        "outputId": "dbfe17fa-160a-4c69-e1f8-df7ab36b7f9b",
        "colab": {
          "base_uri": "https://localhost:8080/",
          "height": 146
        }
      },
      "source": [
        "input_size=10\n",
        "output_size= 2\n",
        "hidden_layer_size = 50\n",
        "\n",
        "model = tf.keras.Sequential([\n",
        "                      tf.keras.layers.Dense(hidden_layer_size,activation='relu'), \n",
        "                      tf.keras.layers.Dense(hidden_layer_size,activation='relu'), \n",
        "                      tf.keras.layers.Dense(output_size,activation='softmax')\n",
        "\n",
        "\n",
        "                      ])\n",
        "model.compile(optimizer='adam',loss='sparse_categorical_crossentropy', metrics=['accuracy'])\n",
        "\n",
        "batch_size = 100\n",
        "max_epochs = 100\n",
        "\n",
        "early_stopping = tf.keras.callbacks.EarlyStopping()\n",
        "\n",
        "model.fit(train_inputs,\n",
        "          train_targets,\n",
        "          batch_size = batch_size, \n",
        "          epochs = max_epochs,\n",
        "          callbacks= [early_stopping],\n",
        "          validation_data=(validation_inputs,validation_targets),\n",
        "          verbose = 2)"
      ],
      "execution_count": 0,
      "outputs": [
        {
          "output_type": "stream",
          "text": [
            "Epoch 1/100\n",
            "36/36 - 0s - loss: 0.5825 - accuracy: 0.6706 - val_loss: 0.5715 - val_accuracy: 0.6465\n",
            "Epoch 2/100\n",
            "36/36 - 0s - loss: 0.4542 - accuracy: 0.7611 - val_loss: 0.5701 - val_accuracy: 0.6465\n",
            "Epoch 3/100\n",
            "36/36 - 0s - loss: 0.4074 - accuracy: 0.7916 - val_loss: 0.6125 - val_accuracy: 0.6465\n"
          ],
          "name": "stdout"
        },
        {
          "output_type": "execute_result",
          "data": {
            "text/plain": [
              "<tensorflow.python.keras.callbacks.History at 0x7fe4d7326668>"
            ]
          },
          "metadata": {
            "tags": []
          },
          "execution_count": 15
        }
      ]
    },
    {
      "cell_type": "markdown",
      "metadata": {
        "id": "QUv2v2Q8oCB7",
        "colab_type": "text"
      },
      "source": [
        "Test the model"
      ]
    },
    {
      "cell_type": "code",
      "metadata": {
        "id": "6HRIowDK15T3",
        "colab_type": "code",
        "outputId": "c5ee839b-4433-4089-9002-a8d5db732ce0",
        "colab": {
          "base_uri": "https://localhost:8080/",
          "height": 35
        }
      },
      "source": [
        "test_loss,test_accuracy = model.evaluate(test_inputs,test_targets)"
      ],
      "execution_count": 0,
      "outputs": [
        {
          "output_type": "stream",
          "text": [
            "14/14 [==============================] - 0s 2ms/step - loss: 0.3980 - accuracy: 0.8036\n"
          ],
          "name": "stdout"
        }
      ]
    },
    {
      "cell_type": "code",
      "metadata": {
        "id": "-R7nH-Q-o6r9",
        "colab_type": "code",
        "colab": {}
      },
      "source": [
        ""
      ],
      "execution_count": 0,
      "outputs": []
    }
  ]
}