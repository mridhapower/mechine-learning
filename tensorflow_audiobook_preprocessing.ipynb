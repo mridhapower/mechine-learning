{
  "nbformat": 4,
  "nbformat_minor": 0,
  "metadata": {
    "colab": {
      "name": "tensorflow audiobook preprocessing.ipynb",
      "provenance": [],
      "collapsed_sections": [],
      "authorship_tag": "ABX9TyPGkl3jWJ1NbHaJR4gSh6R+",
      "include_colab_link": true
    },
    "kernelspec": {
      "name": "python3",
      "display_name": "Python 3"
    }
  },
  "cells": [
    {
      "cell_type": "markdown",
      "metadata": {
        "id": "view-in-github",
        "colab_type": "text"
      },
      "source": [
        "<a href=\"https://colab.research.google.com/github/mridhapower/mechine-learning/blob/master/tensorflow_audiobook_preprocessing.ipynb\" target=\"_parent\"><img src=\"https://colab.research.google.com/assets/colab-badge.svg\" alt=\"Open In Colab\"/></a>"
      ]
    },
    {
      "cell_type": "code",
      "metadata": {
        "id": "2BqJ8--Xkrt6",
        "colab_type": "code",
        "outputId": "53f50ec2-8b16-4d0e-e68a-c6705e4e4bec",
        "colab": {
          "base_uri": "https://localhost:8080/",
          "height": 35
        }
      },
      "source": [
        "from google.colab import drive\n",
        "drive.mount('/content/drive')"
      ],
      "execution_count": 0,
      "outputs": [
        {
          "output_type": "stream",
          "text": [
            "Drive already mounted at /content/drive; to attempt to forcibly remount, call drive.mount(\"/content/drive\", force_remount=True).\n"
          ],
          "name": "stdout"
        }
      ]
    },
    {
      "cell_type": "markdown",
      "metadata": {
        "id": "P8VagZL_yc-3",
        "colab_type": "text"
      },
      "source": [
        "Extraxt data from csv"
      ]
    },
    {
      "cell_type": "code",
      "metadata": {
        "id": "JFhKKOvsicJC",
        "colab_type": "code",
        "outputId": "c0849dcf-0af0-459e-ac91-23d3d7ac7760",
        "colab": {
          "base_uri": "https://localhost:8080/",
          "height": 35
        }
      },
      "source": [
        "import numpy as np\n",
        "from sklearn import preprocessing\n",
        "\n",
        "raw_csv_data =  np.loadtxt('/content/drive/My Drive/Audiobooks_data.csv',delimiter=',')\n",
        "unscaled_inputs_all = raw_csv_data[:,1:-1]\n",
        "targets_all = raw_csv_data[:,-1]\n",
        "print(targets_all)"
      ],
      "execution_count": 0,
      "outputs": [
        {
          "output_type": "stream",
          "text": [
            "[0. 0. 0. ... 0. 0. 1.]\n"
          ],
          "name": "stdout"
        }
      ]
    },
    {
      "cell_type": "markdown",
      "metadata": {
        "id": "fCkQL96BykFc",
        "colab_type": "text"
      },
      "source": [
        "Balance the data"
      ]
    },
    {
      "cell_type": "code",
      "metadata": {
        "id": "7tkSvkBiyjdV",
        "colab_type": "code",
        "colab": {}
      },
      "source": [
        "num_one_targets= int(np.sum(targets_all))\n",
        "zero_targets_counter = 0\n",
        "indices_to_remove = []\n",
        "\n",
        "for i in range(targets_all.shape[0]):\n",
        "  if targets_all[i]==0:\n",
        "    zero_targets_counter+=1\n",
        "    if zero_targets_counter>num_one_targets:\n",
        "      indices_to_remove.append(i)\n",
        "unscaled_inputs_equal_priors = np.delete(unscaled_inputs_all,indices_to_remove, axis=0)\n",
        "targets_equal_priors = np.delete(targets_all,indices_to_remove, axis = 0)"
      ],
      "execution_count": 0,
      "outputs": []
    },
    {
      "cell_type": "markdown",
      "metadata": {
        "id": "NpUQrgz31LqZ",
        "colab_type": "text"
      },
      "source": [
        "Standarized the inputs"
      ]
    },
    {
      "cell_type": "code",
      "metadata": {
        "id": "eRrDiOVryidg",
        "colab_type": "code",
        "colab": {}
      },
      "source": [
        "scaled_inputs = preprocessing.scale(unscaled_inputs_equal_priors)"
      ],
      "execution_count": 0,
      "outputs": []
    },
    {
      "cell_type": "markdown",
      "metadata": {
        "id": "dQqqY-L61kYa",
        "colab_type": "text"
      },
      "source": [
        "Shuffle"
      ]
    },
    {
      "cell_type": "code",
      "metadata": {
        "id": "_SFskDV304oy",
        "colab_type": "code",
        "outputId": "2ebee056-b8cd-4f13-eae4-faa6ec32601c",
        "colab": {
          "base_uri": "https://localhost:8080/",
          "height": 35
        }
      },
      "source": [
        "shuffled_indices = np.arange(scaled_inputs.shape[0])\n",
        "np.random.shuffle(shuffled_indices)\n",
        "shuffled_inputs = scaled_inputs[shuffled_indices]\n",
        "shuffled_target = targets_equal_priors[shuffled_indices]\n",
        "print(shuffled_target)"
      ],
      "execution_count": 0,
      "outputs": [
        {
          "output_type": "stream",
          "text": [
            "[0. 0. 0. ... 0. 1. 1.]\n"
          ],
          "name": "stdout"
        }
      ]
    },
    {
      "cell_type": "markdown",
      "metadata": {
        "id": "LiZX0o1c2nnt",
        "colab_type": "text"
      },
      "source": [
        "Split data into train,validation and test"
      ]
    },
    {
      "cell_type": "code",
      "metadata": {
        "id": "QVL6VsdD2eCg",
        "colab_type": "code",
        "outputId": "d804531a-a180-4aee-acfa-4c86a0f1f676",
        "colab": {
          "base_uri": "https://localhost:8080/",
          "height": 72
        }
      },
      "source": [
        "samples_count = shuffled_inputs.shape[0] \n",
        "train_samples_count = int(0.8*samples_count)\n",
        "validation_samples_count = int(0.1*samples_count)\n",
        "test_samples_count = samples_count-(train_samples_count+validation_samples_count)\n",
        "\n",
        "train_inputs = shuffled_inputs[:train_samples_count]\n",
        "train_targets = shuffled_target[:train_samples_count]\n",
        "\n",
        "validation_inputs = shuffled_inputs[train_samples_count:train_samples_count+validation_samples_count]\n",
        "validation_targets = shuffled_target[train_samples_count:train_samples_count+validation_samples_count]\n",
        "\n",
        "test_inputs = shuffled_inputs[train_samples_count+validation_samples_count:]\n",
        "test_targets = shuffled_target[train_samples_count+validation_samples_count:]\n",
        "\n",
        "print(np.sum(train_targets),train_samples_count,np.sum(train_targets)/train_samples_count)\n",
        "print(np.sum(validation_targets),validation_samples_count,np.sum(validation_targets)/validation_samples_count)\n",
        "print(np.sum(test_targets),test_samples_count,np.sum(test_targets)/test_samples_count)"
      ],
      "execution_count": 0,
      "outputs": [
        {
          "output_type": "stream",
          "text": [
            "1759.0 3579 0.4914780664990221\n",
            "235.0 447 0.5257270693512305\n",
            "243.0 448 0.5424107142857143\n"
          ],
          "name": "stdout"
        }
      ]
    },
    {
      "cell_type": "code",
      "metadata": {
        "id": "za6zdqqo6Oyu",
        "colab_type": "code",
        "colab": {}
      },
      "source": [
        "np.savez('Audiobooks_data_train',inputs=train_inputs, targets=train_targets)\n",
        "np.savez('Audiobooks_data_validation',inputs=validation_inputs, targets=validation_targets)\n",
        "np.savez('Audiobooks_data_test',inputs=test_inputs, targets=test_targets)"
      ],
      "execution_count": 0,
      "outputs": []
    }
  ]
}